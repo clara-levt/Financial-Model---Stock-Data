{
 "cells": [
  {
   "cell_type": "code",
   "execution_count": 1,
   "id": "e0e8e546",
   "metadata": {},
   "outputs": [],
   "source": [
    "import numpy as np\n",
    "import pandas as pd\n",
    "from pandas_datareader import data\n",
    "import yfinance as yf \n",
    "import matplotlib.pyplot as plt\n",
    "%matplotlib inline\n",
    "from datetime import date"
   ]
  },
  {
   "cell_type": "code",
   "execution_count": 2,
   "id": "4e2dacad",
   "metadata": {},
   "outputs": [],
   "source": [
    "# update code to use yfinance with padas_datareader\n",
    "# code update for 2023: https://github.com/ranaroussi/yfinance\n",
    "yf.pdr_override() # <== that's all it takes"
   ]
  },
  {
   "cell_type": "code",
   "execution_count": 23,
   "id": "b8040ee4",
   "metadata": {},
   "outputs": [],
   "source": [
    "stock_list = ['QQQ','SPY','IWM']\n",
    "start_date = '2018-01-01'\n",
    "end_date = date.today()"
   ]
  },
  {
   "cell_type": "code",
   "execution_count": 24,
   "id": "66a14a01",
   "metadata": {},
   "outputs": [
    {
     "name": "stdout",
     "output_type": "stream",
     "text": [
      "[*********************100%***********************]  3 of 3 completed\n"
     ]
    },
    {
     "data": {
      "text/html": [
       "<div>\n",
       "<style scoped>\n",
       "    .dataframe tbody tr th:only-of-type {\n",
       "        vertical-align: middle;\n",
       "    }\n",
       "\n",
       "    .dataframe tbody tr th {\n",
       "        vertical-align: top;\n",
       "    }\n",
       "\n",
       "    .dataframe thead tr th {\n",
       "        text-align: left;\n",
       "    }\n",
       "\n",
       "    .dataframe thead tr:last-of-type th {\n",
       "        text-align: right;\n",
       "    }\n",
       "</style>\n",
       "<table border=\"1\" class=\"dataframe\">\n",
       "  <thead>\n",
       "    <tr>\n",
       "      <th></th>\n",
       "      <th colspan=\"3\" halign=\"left\">Adj Close</th>\n",
       "      <th colspan=\"3\" halign=\"left\">Close</th>\n",
       "      <th colspan=\"3\" halign=\"left\">High</th>\n",
       "      <th colspan=\"3\" halign=\"left\">Low</th>\n",
       "      <th colspan=\"3\" halign=\"left\">Open</th>\n",
       "      <th colspan=\"3\" halign=\"left\">Volume</th>\n",
       "    </tr>\n",
       "    <tr>\n",
       "      <th></th>\n",
       "      <th>IWM</th>\n",
       "      <th>QQQ</th>\n",
       "      <th>SPY</th>\n",
       "      <th>IWM</th>\n",
       "      <th>QQQ</th>\n",
       "      <th>SPY</th>\n",
       "      <th>IWM</th>\n",
       "      <th>QQQ</th>\n",
       "      <th>SPY</th>\n",
       "      <th>IWM</th>\n",
       "      <th>QQQ</th>\n",
       "      <th>SPY</th>\n",
       "      <th>IWM</th>\n",
       "      <th>QQQ</th>\n",
       "      <th>SPY</th>\n",
       "      <th>IWM</th>\n",
       "      <th>QQQ</th>\n",
       "      <th>SPY</th>\n",
       "    </tr>\n",
       "    <tr>\n",
       "      <th>Date</th>\n",
       "      <th></th>\n",
       "      <th></th>\n",
       "      <th></th>\n",
       "      <th></th>\n",
       "      <th></th>\n",
       "      <th></th>\n",
       "      <th></th>\n",
       "      <th></th>\n",
       "      <th></th>\n",
       "      <th></th>\n",
       "      <th></th>\n",
       "      <th></th>\n",
       "      <th></th>\n",
       "      <th></th>\n",
       "      <th></th>\n",
       "      <th></th>\n",
       "      <th></th>\n",
       "      <th></th>\n",
       "    </tr>\n",
       "  </thead>\n",
       "  <tbody>\n",
       "    <tr>\n",
       "      <th>2018-01-02</th>\n",
       "      <td>143.941162</td>\n",
       "      <td>152.886810</td>\n",
       "      <td>245.828415</td>\n",
       "      <td>153.899994</td>\n",
       "      <td>158.490005</td>\n",
       "      <td>268.769989</td>\n",
       "      <td>153.970001</td>\n",
       "      <td>158.529999</td>\n",
       "      <td>268.809998</td>\n",
       "      <td>152.460007</td>\n",
       "      <td>156.169998</td>\n",
       "      <td>267.399994</td>\n",
       "      <td>153.199997</td>\n",
       "      <td>156.559998</td>\n",
       "      <td>267.839996</td>\n",
       "      <td>20489600</td>\n",
       "      <td>32573300</td>\n",
       "      <td>86655700</td>\n",
       "    </tr>\n",
       "    <tr>\n",
       "      <th>2018-01-03</th>\n",
       "      <td>144.090805</td>\n",
       "      <td>154.372299</td>\n",
       "      <td>247.383316</td>\n",
       "      <td>154.059998</td>\n",
       "      <td>160.029999</td>\n",
       "      <td>270.470001</td>\n",
       "      <td>154.460007</td>\n",
       "      <td>160.169998</td>\n",
       "      <td>270.640015</td>\n",
       "      <td>153.520004</td>\n",
       "      <td>158.610001</td>\n",
       "      <td>268.959991</td>\n",
       "      <td>153.869995</td>\n",
       "      <td>158.639999</td>\n",
       "      <td>268.959991</td>\n",
       "      <td>21836600</td>\n",
       "      <td>29383600</td>\n",
       "      <td>90070400</td>\n",
       "    </tr>\n",
       "    <tr>\n",
       "      <th>2018-01-04</th>\n",
       "      <td>144.474274</td>\n",
       "      <td>154.642426</td>\n",
       "      <td>248.426041</td>\n",
       "      <td>154.470001</td>\n",
       "      <td>160.309998</td>\n",
       "      <td>271.609985</td>\n",
       "      <td>155.149994</td>\n",
       "      <td>160.789993</td>\n",
       "      <td>272.160004</td>\n",
       "      <td>154.020004</td>\n",
       "      <td>160.080002</td>\n",
       "      <td>270.540009</td>\n",
       "      <td>154.970001</td>\n",
       "      <td>160.580002</td>\n",
       "      <td>271.200012</td>\n",
       "      <td>14207100</td>\n",
       "      <td>24776100</td>\n",
       "      <td>80636400</td>\n",
       "    </tr>\n",
       "    <tr>\n",
       "      <th>2018-01-05</th>\n",
       "      <td>144.773544</td>\n",
       "      <td>156.195557</td>\n",
       "      <td>250.081558</td>\n",
       "      <td>154.789993</td>\n",
       "      <td>161.919998</td>\n",
       "      <td>273.420013</td>\n",
       "      <td>154.979996</td>\n",
       "      <td>162.029999</td>\n",
       "      <td>273.559998</td>\n",
       "      <td>153.940002</td>\n",
       "      <td>160.770004</td>\n",
       "      <td>271.950012</td>\n",
       "      <td>154.880005</td>\n",
       "      <td>161.070007</td>\n",
       "      <td>272.510010</td>\n",
       "      <td>19883900</td>\n",
       "      <td>26992300</td>\n",
       "      <td>83524000</td>\n",
       "    </tr>\n",
       "    <tr>\n",
       "      <th>2018-01-08</th>\n",
       "      <td>144.998047</td>\n",
       "      <td>156.803268</td>\n",
       "      <td>250.538849</td>\n",
       "      <td>155.029999</td>\n",
       "      <td>162.550003</td>\n",
       "      <td>273.920013</td>\n",
       "      <td>155.270004</td>\n",
       "      <td>162.630005</td>\n",
       "      <td>274.100006</td>\n",
       "      <td>153.500000</td>\n",
       "      <td>161.860001</td>\n",
       "      <td>272.980011</td>\n",
       "      <td>154.729996</td>\n",
       "      <td>161.919998</td>\n",
       "      <td>273.309998</td>\n",
       "      <td>18457300</td>\n",
       "      <td>23159100</td>\n",
       "      <td>57319200</td>\n",
       "    </tr>\n",
       "  </tbody>\n",
       "</table>\n",
       "</div>"
      ],
      "text/plain": [
       "             Adj Close                               Close              \\\n",
       "                   IWM         QQQ         SPY         IWM         QQQ   \n",
       "Date                                                                     \n",
       "2018-01-02  143.941162  152.886810  245.828415  153.899994  158.490005   \n",
       "2018-01-03  144.090805  154.372299  247.383316  154.059998  160.029999   \n",
       "2018-01-04  144.474274  154.642426  248.426041  154.470001  160.309998   \n",
       "2018-01-05  144.773544  156.195557  250.081558  154.789993  161.919998   \n",
       "2018-01-08  144.998047  156.803268  250.538849  155.029999  162.550003   \n",
       "\n",
       "                              High                                 Low  \\\n",
       "                   SPY         IWM         QQQ         SPY         IWM   \n",
       "Date                                                                     \n",
       "2018-01-02  268.769989  153.970001  158.529999  268.809998  152.460007   \n",
       "2018-01-03  270.470001  154.460007  160.169998  270.640015  153.520004   \n",
       "2018-01-04  271.609985  155.149994  160.789993  272.160004  154.020004   \n",
       "2018-01-05  273.420013  154.979996  162.029999  273.559998  153.940002   \n",
       "2018-01-08  273.920013  155.270004  162.630005  274.100006  153.500000   \n",
       "\n",
       "                                          Open                          \\\n",
       "                   QQQ         SPY         IWM         QQQ         SPY   \n",
       "Date                                                                     \n",
       "2018-01-02  156.169998  267.399994  153.199997  156.559998  267.839996   \n",
       "2018-01-03  158.610001  268.959991  153.869995  158.639999  268.959991   \n",
       "2018-01-04  160.080002  270.540009  154.970001  160.580002  271.200012   \n",
       "2018-01-05  160.770004  271.950012  154.880005  161.070007  272.510010   \n",
       "2018-01-08  161.860001  272.980011  154.729996  161.919998  273.309998   \n",
       "\n",
       "              Volume                      \n",
       "                 IWM       QQQ       SPY  \n",
       "Date                                      \n",
       "2018-01-02  20489600  32573300  86655700  \n",
       "2018-01-03  21836600  29383600  90070400  \n",
       "2018-01-04  14207100  24776100  80636400  \n",
       "2018-01-05  19883900  26992300  83524000  \n",
       "2018-01-08  18457300  23159100  57319200  "
      ]
     },
     "execution_count": 24,
     "metadata": {},
     "output_type": "execute_result"
    }
   ],
   "source": [
    "df = data.get_data_yahoo(stock_list, data_source = 'yahoo', start=start_date, end=end_date)\n",
    "df.head()"
   ]
  },
  {
   "cell_type": "code",
   "execution_count": 25,
   "id": "f98cdb7b",
   "metadata": {},
   "outputs": [
    {
     "name": "stdout",
     "output_type": "stream",
     "text": [
      "<class 'pandas.core.frame.DataFrame'>\n",
      "DatetimeIndex: 1343 entries, 2018-01-02 to 2023-05-03\n",
      "Data columns (total 3 columns):\n",
      " #   Column  Non-Null Count  Dtype  \n",
      "---  ------  --------------  -----  \n",
      " 0   IWM     1343 non-null   float64\n",
      " 1   QQQ     1343 non-null   float64\n",
      " 2   SPY     1343 non-null   float64\n",
      "dtypes: float64(3)\n",
      "memory usage: 42.0 KB\n"
     ]
    }
   ],
   "source": [
    "# Closing price\n",
    "df = df['Adj Close']\n",
    "df=df.dropna()\n",
    "df.info()"
   ]
  },
  {
   "cell_type": "code",
   "execution_count": 26,
   "id": "7785f5a3",
   "metadata": {},
   "outputs": [
    {
     "data": {
      "text/html": [
       "<div>\n",
       "<style scoped>\n",
       "    .dataframe tbody tr th:only-of-type {\n",
       "        vertical-align: middle;\n",
       "    }\n",
       "\n",
       "    .dataframe tbody tr th {\n",
       "        vertical-align: top;\n",
       "    }\n",
       "\n",
       "    .dataframe thead th {\n",
       "        text-align: right;\n",
       "    }\n",
       "</style>\n",
       "<table border=\"1\" class=\"dataframe\">\n",
       "  <thead>\n",
       "    <tr style=\"text-align: right;\">\n",
       "      <th></th>\n",
       "      <th>IWM</th>\n",
       "      <th>QQQ</th>\n",
       "      <th>SPY</th>\n",
       "    </tr>\n",
       "    <tr>\n",
       "      <th>Date</th>\n",
       "      <th></th>\n",
       "      <th></th>\n",
       "      <th></th>\n",
       "    </tr>\n",
       "  </thead>\n",
       "  <tbody>\n",
       "    <tr>\n",
       "      <th>2018-01-02</th>\n",
       "      <td>143.941162</td>\n",
       "      <td>152.886810</td>\n",
       "      <td>245.828415</td>\n",
       "    </tr>\n",
       "    <tr>\n",
       "      <th>2018-01-03</th>\n",
       "      <td>144.090805</td>\n",
       "      <td>154.372299</td>\n",
       "      <td>247.383316</td>\n",
       "    </tr>\n",
       "    <tr>\n",
       "      <th>2018-01-04</th>\n",
       "      <td>144.474274</td>\n",
       "      <td>154.642426</td>\n",
       "      <td>248.426041</td>\n",
       "    </tr>\n",
       "    <tr>\n",
       "      <th>2018-01-05</th>\n",
       "      <td>144.773544</td>\n",
       "      <td>156.195557</td>\n",
       "      <td>250.081558</td>\n",
       "    </tr>\n",
       "    <tr>\n",
       "      <th>2018-01-08</th>\n",
       "      <td>144.998047</td>\n",
       "      <td>156.803268</td>\n",
       "      <td>250.538849</td>\n",
       "    </tr>\n",
       "  </tbody>\n",
       "</table>\n",
       "</div>"
      ],
      "text/plain": [
       "                   IWM         QQQ         SPY\n",
       "Date                                          \n",
       "2018-01-02  143.941162  152.886810  245.828415\n",
       "2018-01-03  144.090805  154.372299  247.383316\n",
       "2018-01-04  144.474274  154.642426  248.426041\n",
       "2018-01-05  144.773544  156.195557  250.081558\n",
       "2018-01-08  144.998047  156.803268  250.538849"
      ]
     },
     "execution_count": 26,
     "metadata": {},
     "output_type": "execute_result"
    }
   ],
   "source": [
    "df.head()"
   ]
  },
  {
   "cell_type": "code",
   "execution_count": 27,
   "id": "bdc317d3",
   "metadata": {},
   "outputs": [
    {
     "name": "stdout",
     "output_type": "stream",
     "text": [
      "                 IWM       QQQ       SPY\n",
      "Date                                    \n",
      "2023-01-02 -0.068250 -0.097395 -0.060904\n",
      "2023-02-01  0.121626  0.137780  0.078725\n",
      "2023-03-01 -0.031210 -0.032301 -0.039094\n",
      "2023-04-03 -0.049259  0.101118  0.045038\n",
      "2023-05-01 -0.017817  0.006372  0.011096\n"
     ]
    }
   ],
   "source": [
    "# Resample the full dataframe to monthly timeframe\n",
    "monthly_df = df.resample(\"BMS\").first()\n",
    "\n",
    "# Calculate daily returns of stocks\n",
    "returns_daily = df.pct_change()\n",
    "\n",
    "# Calculate monthly returns of the stocks\n",
    "returns_monthly = monthly_df.pct_change().dropna()\n",
    "print(returns_monthly.tail())"
   ]
  },
  {
   "cell_type": "code",
   "execution_count": 28,
   "id": "a97e6fbb",
   "metadata": {},
   "outputs": [
    {
     "name": "stdout",
     "output_type": "stream",
     "text": [
      "          IWM       QQQ       SPY\n",
      "IWM  0.000174  0.000033  0.000051\n",
      "QQQ  0.000033  0.000015  0.000020\n",
      "SPY  0.000051  0.000020  0.000026\n"
     ]
    }
   ],
   "source": [
    "# Daily covariance of stocks (for each monthly period)\n",
    "covariances = {}\n",
    "rtd_idx = returns_daily.index\n",
    "for i in returns_monthly.index:    \n",
    "    # Mask daily returns for each month and year, and calculate covariance\n",
    "    mask = (rtd_idx.month == i.month) & (rtd_idx.year == i.year)\n",
    "    \n",
    "    # Use the mask to get daily returns for the current month and year of monthy returns index\n",
    "    covariances[i] = returns_daily[mask].cov()\n",
    "\n",
    "print(covariances[i])"
   ]
  },
  {
   "cell_type": "markdown",
   "id": "d0c8bb34",
   "metadata": {},
   "source": [
    "### Calculate portfolios\n",
    "We'll now generate portfolios to find each month's best one. numpy's random.random() generates random numbers from a uniform distribution, then we normalize them so they sum to 1. We use these weights to calculate returns and volatility. Returns are sums of weights times individual returns. Volatility is more complex, and involves the covariances of the different stocks.\n",
    "\n",
    "Finally we'll store the values in dictionaries for later use, with months' dates as keys.\n",
    "\n",
    "**In this case, we will only generate 10 portfolios for each date so the code will run faster, but in a real-world use-case you'd want to use more like 1000 to 5000 randomly-generated portfolios for a few stocks.**\n"
   ]
  },
  {
   "cell_type": "code",
   "execution_count": 29,
   "id": "00d7e58a",
   "metadata": {},
   "outputs": [
    {
     "name": "stdout",
     "output_type": "stream",
     "text": [
      "[0.65868308 0.1762003  0.16511662]\n"
     ]
    }
   ],
   "source": [
    "portfolio_returns, portfolio_volatility, portfolio_weights = {}, {}, {}\n",
    "\n",
    "# Get portfolio performances at each month\n",
    "for date in sorted(covariances.keys()):\n",
    "    cov = covariances[date]\n",
    "    for portfolio in range(1000):\n",
    "        weights = np.random.random(3)\n",
    "        weights /= np.sum(weights) # /= divides weights by their sum to normalize\n",
    "        returns = np.dot(weights, returns_monthly.loc[date])\n",
    "        volatility = np.sqrt(np.dot(weights.T, np.dot(cov, weights)))\n",
    "        portfolio_returns.setdefault(date, []).append(returns)\n",
    "        portfolio_volatility.setdefault(date, []).append(volatility)\n",
    "        portfolio_weights.setdefault(date, []).append(weights)\n",
    "        \n",
    "print(portfolio_weights[date][0])"
   ]
  },
  {
   "cell_type": "markdown",
   "id": "a6b8b098",
   "metadata": {},
   "source": [
    "### Plot efficient frontier\n",
    "Create a plot of Efficient Frontier for the latest date of the data"
   ]
  },
  {
   "cell_type": "code",
   "execution_count": 30,
   "id": "83d0755d",
   "metadata": {},
   "outputs": [
    {
     "data": {
      "image/png": "[encoded data removed]",
      "text/plain": [
       "<Figure size 432x288 with 1 Axes>"
      ]
     },
     "metadata": {
      "needs_background": "light"
     },
     "output_type": "display_data"
    }
   ],
   "source": [
    "# Get latest date of available data\n",
    "date = sorted(covariances.keys())[-1]  \n",
    "\n",
    "# Plot efficient frontier\n",
    "# warning: this can take at least 10s for the plot to execute...\n",
    "plt.scatter(x=portfolio_volatility[date], y=portfolio_returns[date],  alpha=0.1)\n",
    "plt.xlabel('Volatility')\n",
    "plt.ylabel('Returns')\n",
    "plt.show()"
   ]
  },
  {
   "cell_type": "markdown",
   "id": "4f3c577f",
   "metadata": {},
   "source": [
    "## Get optimal porfolio weight using Sharpe ratios"
   ]
  },
  {
   "cell_type": "markdown",
   "id": "f05c14e6",
   "metadata": {},
   "source": [
    "### Getting the best Sharpe ratio"
   ]
  },
  {
   "cell_type": "code",
   "execution_count": 31,
   "id": "8ce43f3f",
   "metadata": {},
   "outputs": [
    {
     "name": "stdout",
     "output_type": "stream",
     "text": [
      "0.009325355909997203\n"
     ]
    }
   ],
   "source": [
    "# Empty dictionaries for sharpe ratios and best sharpe indexes by date\n",
    "sharpe_ratio, max_sharpe_idxs = {}, {}\n",
    "\n",
    "# Loop through dates and get sharpe ratio for each portfolio\n",
    "for date in portfolio_returns.keys():\n",
    "    for i, ret in enumerate(portfolio_returns[date]):\n",
    "    \n",
    "        # Divide returns by the volatility for the date and index, i\n",
    "        sharpe_ratio.setdefault(date, []).append(ret / portfolio_volatility[date][i])\n",
    "\n",
    "    # Get the index of the best sharpe ratio for each date\n",
    "    max_sharpe_idxs[date] = np.argmax(sharpe_ratio[date])\n",
    "\n",
    "print(portfolio_returns[date][max_sharpe_idxs[date]])"
   ]
  },
  {
   "cell_type": "markdown",
   "id": "8eef3713",
   "metadata": {},
   "source": [
    "### Calculate exponentially-weighted moving average (EWMA) of daily returns\n",
    "We will now work towards creating some features to be able to predict our ideal portfolios. We will simply use the price movement as a feature for now. To do this we will create a daily exponentially-weighted moving average (EWMA), then resample that to the monthly timeframe. Finally, we'll shift the monthly moving average of price one month in the future, so we can use it as a feature for predicting future portfolios."
   ]
  },
  {
   "cell_type": "code",
   "execution_count": 32,
   "id": "7780f85d",
   "metadata": {},
   "outputs": [
    {
     "name": "stdout",
     "output_type": "stream",
     "text": [
      "IWM    0.000107\n",
      "QQQ    0.003578\n",
      "SPY    0.002254\n",
      "Name: 2023-05-01 00:00:00, dtype: float64\n"
     ]
    }
   ],
   "source": [
    "# Calculate exponentially-weighted moving average of daily returns\n",
    "ewma_daily = returns_daily.ewm(span=30).mean() #calculate 30 days average. This number can change to find the best model\n",
    "\n",
    "# Resample daily returns to first business day of the month with the first day for that month\n",
    "ewma_monthly = ewma_daily.resample('BMS').first()\n",
    "\n",
    "# Shift ewma for the month by 1 month forward so we can use it as a feature for future predictions \n",
    "ewma_monthly = ewma_monthly.shift(1).dropna()\n",
    "\n",
    "print(ewma_monthly.iloc[-1])"
   ]
  },
  {
   "cell_type": "markdown",
   "id": "2135fedd",
   "metadata": {},
   "source": [
    "### Make features and targets\n",
    "To use machine learning to pick the best portfolio, we need to generate features and targets. Our features were just created in the last exercise – the exponentially weighted moving averages of prices. Our targets will be the best portfolios we found from the highest Sharpe ratio."
   ]
  },
  {
   "cell_type": "code",
   "execution_count": 33,
   "id": "f6310deb",
   "metadata": {},
   "outputs": [
    {
     "name": "stdout",
     "output_type": "stream",
     "text": [
      "[[0.99286903 0.0052979  0.00183307]\n",
      " [0.97976922 0.00632531 0.01390546]\n",
      " [0.96113839 0.02933567 0.00952595]\n",
      " [0.03065065 0.94315899 0.02619037]\n",
      " [0.00304196 0.3562354  0.64072265]]\n"
     ]
    }
   ],
   "source": [
    "targets, features = [], []\n",
    "\n",
    "# Create features from price history and targets as ideal portfolio\n",
    "for date, ewma in ewma_monthly.iterrows():\n",
    "\n",
    "    # Get the index of the best sharpe ratio\n",
    "    best_idx = max_sharpe_idxs[date]\n",
    "    targets.append(portfolio_weights[date][best_idx])\n",
    "    features.append(ewma)  # add ewma to features\n",
    "\n",
    "targets = np.array(targets)\n",
    "features = np.array(features)\n",
    "print(targets[-5:])"
   ]
  },
  {
   "cell_type": "markdown",
   "id": "deab1c2b",
   "metadata": {},
   "source": [
    "### Plot efficient frontier with best Sharpe ratio"
   ]
  },
  {
   "cell_type": "code",
   "execution_count": 34,
   "id": "50474f68",
   "metadata": {},
   "outputs": [
    {
     "data": {
      "image/png": "[encoded data removed]",
      "text/plain": [
       "<Figure size 432x288 with 1 Axes>"
      ]
     },
     "metadata": {
      "needs_background": "light"
     },
     "output_type": "display_data"
    }
   ],
   "source": [
    "# Get most recent (current) returns and volatility\n",
    "date = sorted(covariances.keys())[-1]\n",
    "cur_returns = portfolio_returns[date]\n",
    "cur_volatility = portfolio_volatility[date]\n",
    "\n",
    "# Plot efficient frontier with sharpe as point\n",
    "plt.scatter(x=cur_volatility, y=cur_returns, alpha=0.1, color='blue')\n",
    "best_idx = max_sharpe_idxs[date]\n",
    "\n",
    "# Place an orange \"X\" on the point with the best Sharpe ratio\n",
    "plt.scatter(x=cur_volatility[best_idx], y=cur_returns[best_idx], marker='x', color='orange')\n",
    "plt.xlabel('Volatility')\n",
    "plt.ylabel('Returns')\n",
    "plt.show()"
   ]
  },
  {
   "cell_type": "markdown",
   "id": "74584797",
   "metadata": {},
   "source": [
    "## Make predictions with a random forest"
   ]
  },
  {
   "cell_type": "code",
   "execution_count": 15,
   "id": "61e9bf3d",
   "metadata": {},
   "outputs": [],
   "source": [
    "from sklearn.ensemble import RandomForestRegressor"
   ]
  },
  {
   "cell_type": "code",
   "execution_count": 35,
   "id": "e5efc5b8",
   "metadata": {},
   "outputs": [
    {
     "name": "stdout",
     "output_type": "stream",
     "text": [
      "0.820263802042402\n",
      "-0.32699507493974983\n"
     ]
    }
   ],
   "source": [
    "# Make train and test features\n",
    "train_size = int(0.85 * features.shape[0])\n",
    "train_features = features[:train_size]\n",
    "test_features = features[train_size:]\n",
    "train_targets = targets[:train_size]\n",
    "test_targets = targets[train_size:]\n",
    "\n",
    "# Fit the model and check scores on train and test\n",
    "rfr = RandomForestRegressor(n_estimators=300, random_state=42)\n",
    "rfr.fit(train_features, train_targets)\n",
    "print(rfr.score(train_features, train_targets))\n",
    "print(rfr.score(test_features, test_targets))"
   ]
  },
  {
   "cell_type": "markdown",
   "id": "38329315",
   "metadata": {},
   "source": [
    "### Don't try to predict the market"
   ]
  },
  {
   "cell_type": "code",
   "execution_count": 36,
   "id": "f39e66c2",
   "metadata": {
    "scrolled": true
   },
   "outputs": [
    {
     "data": {
      "image/png": "[encoded data removed]",
      "text/plain": [
       "<Figure size 432x288 with 1 Axes>"
      ]
     },
     "metadata": {
      "needs_background": "light"
     },
     "output_type": "display_data"
    }
   ],
   "source": [
    "test_predictions = rfr.predict(test_features)\n",
    "\n",
    "# Calculate and plot returns from our RF predictions and the SPY returns\n",
    "test_returns = np.sum(returns_monthly.iloc[train_size:] * test_predictions, axis=1)\n",
    "plt.plot(test_returns, label='algo')\n",
    "plt.plot(returns_monthly['SPY'].iloc[train_size:], label='SPY')\n",
    "plt.legend()\n",
    "plt.show()"
   ]
  },
  {
   "cell_type": "code",
   "execution_count": 42,
   "id": "d90e376c",
   "metadata": {},
   "outputs": [
    {
     "data": {
      "text/plain": [
       "array([[0.38112498, 0.26927993, 0.3495951 ],\n",
       "       [0.39461013, 0.55061653, 0.05477334],\n",
       "       [0.40617755, 0.20713017, 0.38669228],\n",
       "       [0.23156753, 0.32221339, 0.44621909],\n",
       "       [0.14810879, 0.29027035, 0.56162086],\n",
       "       [0.4494829 , 0.42954342, 0.12097368],\n",
       "       [0.30561716, 0.18329591, 0.51108693],\n",
       "       [0.5226705 , 0.44281276, 0.03451674],\n",
       "       [0.11060497, 0.24607021, 0.64332482],\n",
       "       [0.07793724, 0.80131308, 0.12074968]])"
      ]
     },
     "execution_count": 42,
     "metadata": {},
     "output_type": "execute_result"
    }
   ],
   "source": [
    "test_predictions"
   ]
  },
  {
   "cell_type": "code",
   "execution_count": 40,
   "id": "d675f2b1",
   "metadata": {},
   "outputs": [
    {
     "name": "stdout",
     "output_type": "stream",
     "text": [
      "algo returns: 0.1105479444530697\n",
      "SPY returns: 0.10358916498681651\n"
     ]
    }
   ],
   "source": [
    "# Calculate the effect of our portfolio selection on a hypothetical $1k investment\n",
    "cash = 1000\n",
    "algo_cash, spy_cash = [cash], [cash]  # set equal starting cash amounts\n",
    "for r in test_returns:\n",
    "    cash *= 1 + r\n",
    "    algo_cash.append(cash)\n",
    "\n",
    "# Calculate performance for SPY\n",
    "cash = 1000  # reset cash amount\n",
    "for r in returns_monthly['SPY'].iloc[train_size:]:\n",
    "    cash *=1+r\n",
    "    spy_cash.append(cash)\n",
    "\n",
    "print('algo returns:', (algo_cash[-1] - algo_cash[0]) / algo_cash[0])\n",
    "print('SPY returns:', (spy_cash[-1] - spy_cash[0]) / spy_cash[0])"
   ]
  },
  {
   "cell_type": "code",
   "execution_count": 41,
   "id": "5cb16c34",
   "metadata": {},
   "outputs": [
    {
     "data": {
      "image/png": "[encoded data removed]",
      "text/plain": [
       "<Figure size 432x288 with 1 Axes>"
      ]
     },
     "metadata": {
      "needs_background": "light"
     },
     "output_type": "display_data"
    }
   ],
   "source": [
    "# Plot the algo_cash and spy_cash to compare overall returns\n",
    "plt.plot(algo_cash, label='algo')\n",
    "plt.plot(spy_cash, label='SPY')\n",
    "plt.legend()  # show the legend\n",
    "plt.show()"
   ]
  },
  {
   "cell_type": "code",
   "execution_count": null,
   "id": "a5522cb4",
   "metadata": {},
   "outputs": [],
   "source": []
  }
 ],
 "metadata": {
  "kernelspec": {
   "display_name": "Python 3 (ipykernel)",
   "language": "python",
   "name": "python3"
  },
  "language_info": {
   "codemirror_mode": {
    "name": "ipython",
    "version": 3
   },
   "file_extension": ".py",
   "mimetype": "text/x-python",
   "name": "python",
   "nbconvert_exporter": "python",
   "pygments_lexer": "ipython3",
   "version": "3.9.7"
  }
 },
 "nbformat": 4,
 "nbformat_minor": 5
}
