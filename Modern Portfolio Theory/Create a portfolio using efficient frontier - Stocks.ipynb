{
 "cells": [
  {
   "cell_type": "code",
   "execution_count": 5,
   "id": "0c992128",
   "metadata": {},
   "outputs": [],
   "source": [
    "import numpy as np\n",
    "import pandas as pd\n",
    "from pandas_datareader import data\n",
    "import yfinance as yf \n",
    "import matplotlib.pyplot as plt\n",
    "%matplotlib inline\n",
    "from datetime import date"
   ]
  },
  {
   "cell_type": "code",
   "execution_count": 6,
   "id": "a0907599",
   "metadata": {},
   "outputs": [],
   "source": [
    "# update code to use yfinance with padas_datareader\n",
    "# code update for 2023: https://github.com/ranaroussi/yfinance\n",
    "yf.pdr_override() # <== that's all it takes"
   ]
  },
  {
   "cell_type": "code",
   "execution_count": 7,
   "id": "c2c397ca",
   "metadata": {},
   "outputs": [],
   "source": [
    "stock_list = ['AMD','XSD','SMH','SOXX','IVV']\n",
    "start_date = '2017-01-01'\n",
    "end_date = date.today()"
   ]
  },
  {
   "cell_type": "code",
   "execution_count": 8,
   "id": "6048b04b",
   "metadata": {},
   "outputs": [
    {
     "name": "stdout",
     "output_type": "stream",
     "text": [
      "[*********************100%***********************]  5 of 5 completed\n"
     ]
    },
    {
     "data": {
      "text/html": [
       "<div>\n",
       "<style scoped>\n",
       "    .dataframe tbody tr th:only-of-type {\n",
       "        vertical-align: middle;\n",
       "    }\n",
       "\n",
       "    .dataframe tbody tr th {\n",
       "        vertical-align: top;\n",
       "    }\n",
       "\n",
       "    .dataframe thead tr th {\n",
       "        text-align: left;\n",
       "    }\n",
       "\n",
       "    .dataframe thead tr:last-of-type th {\n",
       "        text-align: right;\n",
       "    }\n",
       "</style>\n",
       "<table border=\"1\" class=\"dataframe\">\n",
       "  <thead>\n",
       "    <tr>\n",
       "      <th></th>\n",
       "      <th colspan=\"5\" halign=\"left\">Adj Close</th>\n",
       "      <th colspan=\"5\" halign=\"left\">Close</th>\n",
       "      <th>...</th>\n",
       "      <th colspan=\"5\" halign=\"left\">Open</th>\n",
       "      <th colspan=\"5\" halign=\"left\">Volume</th>\n",
       "    </tr>\n",
       "    <tr>\n",
       "      <th></th>\n",
       "      <th>AMD</th>\n",
       "      <th>IVV</th>\n",
       "      <th>SMH</th>\n",
       "      <th>SOXX</th>\n",
       "      <th>XSD</th>\n",
       "      <th>AMD</th>\n",
       "      <th>IVV</th>\n",
       "      <th>SMH</th>\n",
       "      <th>SOXX</th>\n",
       "      <th>XSD</th>\n",
       "      <th>...</th>\n",
       "      <th>AMD</th>\n",
       "      <th>IVV</th>\n",
       "      <th>SMH</th>\n",
       "      <th>SOXX</th>\n",
       "      <th>XSD</th>\n",
       "      <th>AMD</th>\n",
       "      <th>IVV</th>\n",
       "      <th>SMH</th>\n",
       "      <th>SOXX</th>\n",
       "      <th>XSD</th>\n",
       "    </tr>\n",
       "    <tr>\n",
       "      <th>Date</th>\n",
       "      <th></th>\n",
       "      <th></th>\n",
       "      <th></th>\n",
       "      <th></th>\n",
       "      <th></th>\n",
       "      <th></th>\n",
       "      <th></th>\n",
       "      <th></th>\n",
       "      <th></th>\n",
       "      <th></th>\n",
       "      <th></th>\n",
       "      <th></th>\n",
       "      <th></th>\n",
       "      <th></th>\n",
       "      <th></th>\n",
       "      <th></th>\n",
       "      <th></th>\n",
       "      <th></th>\n",
       "      <th></th>\n",
       "      <th></th>\n",
       "      <th></th>\n",
       "    </tr>\n",
       "  </thead>\n",
       "  <tbody>\n",
       "    <tr>\n",
       "      <th>2017-01-03</th>\n",
       "      <td>11.43</td>\n",
       "      <td>203.194946</td>\n",
       "      <td>66.796890</td>\n",
       "      <td>114.745071</td>\n",
       "      <td>54.670773</td>\n",
       "      <td>11.43</td>\n",
       "      <td>226.580002</td>\n",
       "      <td>71.760002</td>\n",
       "      <td>122.720001</td>\n",
       "      <td>56.480000</td>\n",
       "      <td>...</td>\n",
       "      <td>11.42</td>\n",
       "      <td>226.399994</td>\n",
       "      <td>72.839996</td>\n",
       "      <td>123.139999</td>\n",
       "      <td>56.570000</td>\n",
       "      <td>55182000</td>\n",
       "      <td>6396600</td>\n",
       "      <td>2870700</td>\n",
       "      <td>884700</td>\n",
       "      <td>286700</td>\n",
       "    </tr>\n",
       "    <tr>\n",
       "      <th>2017-01-04</th>\n",
       "      <td>11.43</td>\n",
       "      <td>204.423523</td>\n",
       "      <td>67.010979</td>\n",
       "      <td>115.062981</td>\n",
       "      <td>55.019238</td>\n",
       "      <td>11.43</td>\n",
       "      <td>227.949997</td>\n",
       "      <td>71.989998</td>\n",
       "      <td>123.059998</td>\n",
       "      <td>56.840000</td>\n",
       "      <td>...</td>\n",
       "      <td>11.45</td>\n",
       "      <td>226.960007</td>\n",
       "      <td>72.080002</td>\n",
       "      <td>123.330002</td>\n",
       "      <td>56.669998</td>\n",
       "      <td>40781200</td>\n",
       "      <td>4099000</td>\n",
       "      <td>1935200</td>\n",
       "      <td>451400</td>\n",
       "      <td>94000</td>\n",
       "    </tr>\n",
       "    <tr>\n",
       "      <th>2017-01-05</th>\n",
       "      <td>11.24</td>\n",
       "      <td>204.235229</td>\n",
       "      <td>66.620033</td>\n",
       "      <td>114.081223</td>\n",
       "      <td>54.322292</td>\n",
       "      <td>11.24</td>\n",
       "      <td>227.740005</td>\n",
       "      <td>71.570000</td>\n",
       "      <td>122.010002</td>\n",
       "      <td>56.119999</td>\n",
       "      <td>...</td>\n",
       "      <td>11.43</td>\n",
       "      <td>227.630005</td>\n",
       "      <td>72.160004</td>\n",
       "      <td>123.129997</td>\n",
       "      <td>56.720001</td>\n",
       "      <td>38855200</td>\n",
       "      <td>2970100</td>\n",
       "      <td>1508300</td>\n",
       "      <td>314000</td>\n",
       "      <td>34300</td>\n",
       "    </tr>\n",
       "    <tr>\n",
       "      <th>2017-01-06</th>\n",
       "      <td>11.32</td>\n",
       "      <td>205.042297</td>\n",
       "      <td>66.964447</td>\n",
       "      <td>114.988182</td>\n",
       "      <td>54.544933</td>\n",
       "      <td>11.32</td>\n",
       "      <td>228.639999</td>\n",
       "      <td>71.940002</td>\n",
       "      <td>122.980003</td>\n",
       "      <td>56.349998</td>\n",
       "      <td>...</td>\n",
       "      <td>11.29</td>\n",
       "      <td>227.910004</td>\n",
       "      <td>71.669998</td>\n",
       "      <td>122.309998</td>\n",
       "      <td>56.200001</td>\n",
       "      <td>34453500</td>\n",
       "      <td>3110100</td>\n",
       "      <td>2594000</td>\n",
       "      <td>291700</td>\n",
       "      <td>39300</td>\n",
       "    </tr>\n",
       "    <tr>\n",
       "      <th>2017-01-09</th>\n",
       "      <td>11.49</td>\n",
       "      <td>204.378677</td>\n",
       "      <td>67.737038</td>\n",
       "      <td>116.203697</td>\n",
       "      <td>55.145065</td>\n",
       "      <td>11.49</td>\n",
       "      <td>227.899994</td>\n",
       "      <td>72.769997</td>\n",
       "      <td>124.279999</td>\n",
       "      <td>56.970001</td>\n",
       "      <td>...</td>\n",
       "      <td>11.37</td>\n",
       "      <td>228.270004</td>\n",
       "      <td>72.040001</td>\n",
       "      <td>123.410004</td>\n",
       "      <td>56.400002</td>\n",
       "      <td>37304800</td>\n",
       "      <td>2360600</td>\n",
       "      <td>2354200</td>\n",
       "      <td>294600</td>\n",
       "      <td>49400</td>\n",
       "    </tr>\n",
       "  </tbody>\n",
       "</table>\n",
       "<p>5 rows × 30 columns</p>\n",
       "</div>"
      ],
      "text/plain": [
       "           Adj Close                                                Close  \\\n",
       "                 AMD         IVV        SMH        SOXX        XSD    AMD   \n",
       "Date                                                                        \n",
       "2017-01-03     11.43  203.194946  66.796890  114.745071  54.670773  11.43   \n",
       "2017-01-04     11.43  204.423523  67.010979  115.062981  55.019238  11.43   \n",
       "2017-01-05     11.24  204.235229  66.620033  114.081223  54.322292  11.24   \n",
       "2017-01-06     11.32  205.042297  66.964447  114.988182  54.544933  11.32   \n",
       "2017-01-09     11.49  204.378677  67.737038  116.203697  55.145065  11.49   \n",
       "\n",
       "                                                          ...   Open  \\\n",
       "                   IVV        SMH        SOXX        XSD  ...    AMD   \n",
       "Date                                                      ...          \n",
       "2017-01-03  226.580002  71.760002  122.720001  56.480000  ...  11.42   \n",
       "2017-01-04  227.949997  71.989998  123.059998  56.840000  ...  11.45   \n",
       "2017-01-05  227.740005  71.570000  122.010002  56.119999  ...  11.43   \n",
       "2017-01-06  228.639999  71.940002  122.980003  56.349998  ...  11.29   \n",
       "2017-01-09  227.899994  72.769997  124.279999  56.970001  ...  11.37   \n",
       "\n",
       "                                                            Volume           \\\n",
       "                   IVV        SMH        SOXX        XSD       AMD      IVV   \n",
       "Date                                                                          \n",
       "2017-01-03  226.399994  72.839996  123.139999  56.570000  55182000  6396600   \n",
       "2017-01-04  226.960007  72.080002  123.330002  56.669998  40781200  4099000   \n",
       "2017-01-05  227.630005  72.160004  123.129997  56.720001  38855200  2970100   \n",
       "2017-01-06  227.910004  71.669998  122.309998  56.200001  34453500  3110100   \n",
       "2017-01-09  228.270004  72.040001  123.410004  56.400002  37304800  2360600   \n",
       "\n",
       "                                     \n",
       "                SMH    SOXX     XSD  \n",
       "Date                                 \n",
       "2017-01-03  2870700  884700  286700  \n",
       "2017-01-04  1935200  451400   94000  \n",
       "2017-01-05  1508300  314000   34300  \n",
       "2017-01-06  2594000  291700   39300  \n",
       "2017-01-09  2354200  294600   49400  \n",
       "\n",
       "[5 rows x 30 columns]"
      ]
     },
     "execution_count": 8,
     "metadata": {},
     "output_type": "execute_result"
    }
   ],
   "source": [
    "df = data.get_data_yahoo(stock_list, data_source = 'yahoo', start=start_date, end=end_date)\n",
    "df.head()"
   ]
  },
  {
   "cell_type": "code",
   "execution_count": 9,
   "id": "004d826e",
   "metadata": {},
   "outputs": [
    {
     "name": "stdout",
     "output_type": "stream",
     "text": [
      "<class 'pandas.core.frame.DataFrame'>\n",
      "DatetimeIndex: 1551 entries, 2017-01-03 to 2023-03-02\n",
      "Data columns (total 5 columns):\n",
      " #   Column  Non-Null Count  Dtype  \n",
      "---  ------  --------------  -----  \n",
      " 0   AMD     1551 non-null   float64\n",
      " 1   IVV     1551 non-null   float64\n",
      " 2   SMH     1551 non-null   float64\n",
      " 3   SOXX    1551 non-null   float64\n",
      " 4   XSD     1551 non-null   float64\n",
      "dtypes: float64(5)\n",
      "memory usage: 72.7 KB\n"
     ]
    }
   ],
   "source": [
    "# Closing price\n",
    "df = df['Adj Close']\n",
    "df=df.dropna()\n",
    "df.info()"
   ]
  },
  {
   "cell_type": "markdown",
   "id": "0fd91be7",
   "metadata": {},
   "source": [
    "### Pretty frontier\n",
    "\n",
    "https://towardsdatascience.com/python-markowitz-optimization-b5e1623060f5\n",
    "\n",
    "Note: this code is optimized for stock with 252 trading day, so chaging the number of trading day significantly affect the optimize function"
   ]
  },
  {
   "cell_type": "markdown",
   "id": "9635070c",
   "metadata": {},
   "source": [
    "It seems like there is an onging debate whether we should use normal return or log return. Log return make more senses to me so I will use log return, but I will also test normal return"
   ]
  },
  {
   "cell_type": "code",
   "execution_count": 10,
   "id": "41e131b9",
   "metadata": {},
   "outputs": [
    {
     "data": {
      "text/html": [
       "<div>\n",
       "<style scoped>\n",
       "    .dataframe tbody tr th:only-of-type {\n",
       "        vertical-align: middle;\n",
       "    }\n",
       "\n",
       "    .dataframe tbody tr th {\n",
       "        vertical-align: top;\n",
       "    }\n",
       "\n",
       "    .dataframe thead th {\n",
       "        text-align: right;\n",
       "    }\n",
       "</style>\n",
       "<table border=\"1\" class=\"dataframe\">\n",
       "  <thead>\n",
       "    <tr style=\"text-align: right;\">\n",
       "      <th></th>\n",
       "      <th>AMD</th>\n",
       "      <th>IVV</th>\n",
       "      <th>SMH</th>\n",
       "      <th>SOXX</th>\n",
       "      <th>XSD</th>\n",
       "    </tr>\n",
       "    <tr>\n",
       "      <th>Date</th>\n",
       "      <th></th>\n",
       "      <th></th>\n",
       "      <th></th>\n",
       "      <th></th>\n",
       "      <th></th>\n",
       "    </tr>\n",
       "  </thead>\n",
       "  <tbody>\n",
       "    <tr>\n",
       "      <th>2017-01-03</th>\n",
       "      <td>NaN</td>\n",
       "      <td>NaN</td>\n",
       "      <td>NaN</td>\n",
       "      <td>NaN</td>\n",
       "      <td>NaN</td>\n",
       "    </tr>\n",
       "    <tr>\n",
       "      <th>2017-01-04</th>\n",
       "      <td>0.000000</td>\n",
       "      <td>0.006028</td>\n",
       "      <td>0.003200</td>\n",
       "      <td>0.002767</td>\n",
       "      <td>0.006354</td>\n",
       "    </tr>\n",
       "    <tr>\n",
       "      <th>2017-01-05</th>\n",
       "      <td>-0.016763</td>\n",
       "      <td>-0.000922</td>\n",
       "      <td>-0.005851</td>\n",
       "      <td>-0.008569</td>\n",
       "      <td>-0.012748</td>\n",
       "    </tr>\n",
       "    <tr>\n",
       "      <th>2017-01-06</th>\n",
       "      <td>0.007092</td>\n",
       "      <td>0.003944</td>\n",
       "      <td>0.005157</td>\n",
       "      <td>0.007919</td>\n",
       "      <td>0.004090</td>\n",
       "    </tr>\n",
       "    <tr>\n",
       "      <th>2017-01-09</th>\n",
       "      <td>0.014906</td>\n",
       "      <td>-0.003242</td>\n",
       "      <td>0.011471</td>\n",
       "      <td>0.010515</td>\n",
       "      <td>0.010942</td>\n",
       "    </tr>\n",
       "  </tbody>\n",
       "</table>\n",
       "</div>"
      ],
      "text/plain": [
       "                 AMD       IVV       SMH      SOXX       XSD\n",
       "Date                                                        \n",
       "2017-01-03       NaN       NaN       NaN       NaN       NaN\n",
       "2017-01-04  0.000000  0.006028  0.003200  0.002767  0.006354\n",
       "2017-01-05 -0.016763 -0.000922 -0.005851 -0.008569 -0.012748\n",
       "2017-01-06  0.007092  0.003944  0.005157  0.007919  0.004090\n",
       "2017-01-09  0.014906 -0.003242  0.011471  0.010515  0.010942"
      ]
     },
     "execution_count": 10,
     "metadata": {},
     "output_type": "execute_result"
    }
   ],
   "source": [
    "log_ret = np.log(df/df.shift(1))\n",
    "log_ret.head()"
   ]
  },
  {
   "cell_type": "code",
   "execution_count": 11,
   "id": "f250ddf0",
   "metadata": {},
   "outputs": [],
   "source": [
    "np.random.seed(123)\n",
    "num_ports = 5000\n",
    "all_weights = np.zeros((num_ports, len(df.columns)))\n",
    "ret_arr = np.zeros(num_ports)\n",
    "vol_arr = np.zeros(num_ports)\n",
    "sharpe_arr = np.zeros(num_ports)\n",
    "rf = 0.04 #risk-free rate of treasury bond\n",
    "for x in range(num_ports):\n",
    "    # Weights\n",
    "    weights = np.array(np.random.random(len(df.columns))) #number of random weight equal number of tickers\n",
    "    weights = weights/np.sum(weights)\n",
    "    \n",
    "    # Save weights\n",
    "    all_weights[x,:] = weights\n",
    "    \n",
    "    # Expected return\n",
    "    ret_arr[x] = np.sum( (log_ret.mean() * weights * 252)) #crypto trading is 365 days/year, stock trading 252 days/year\n",
    "    \n",
    "    # Expected volatility\n",
    "    vol_arr[x] = np.sqrt(np.dot(weights.T, np.dot(log_ret.cov()*252, weights)))\n",
    "    \n",
    "    # Sharpe Ratio\n",
    "    sharpe_arr[x] = (ret_arr[x]-rf)/vol_arr[x]"
   ]
  },
  {
   "cell_type": "code",
   "execution_count": 12,
   "id": "1a5251c1",
   "metadata": {},
   "outputs": [
    {
     "name": "stdout",
     "output_type": "stream",
     "text": [
      "Max Sharpe ratio in the array: 0.5413251954377952\n",
      "Index of max Sharpe ratio in the array: 4533\n"
     ]
    }
   ],
   "source": [
    "print('Max Sharpe ratio in the array: {}'.format(sharpe_arr.max()))\n",
    "\n",
    "#numpy.argmax Returns the indices of the maximum values along an axis.\n",
    "\n",
    "print('Index of max Sharpe ratio in the array: {}'.format(sharpe_arr.argmax())) "
   ]
  },
  {
   "cell_type": "markdown",
   "id": "970d90cf",
   "metadata": {},
   "source": [
    "The best portfolio is on index 9520. Let’s check the allocation weights in that index number and save the return and volatility figures to use it in the chart later."
   ]
  },
  {
   "cell_type": "code",
   "execution_count": 13,
   "id": "b6fae213",
   "metadata": {},
   "outputs": [
    {
     "name": "stdout",
     "output_type": "stream",
     "text": [
      "Max Sharpe ratio allocation: [0.26926515 0.01333819 0.47708161 0.19530102 0.04501403]\n"
     ]
    }
   ],
   "source": [
    "print('Max Sharpe ratio allocation: {}'.format(all_weights[sharpe_arr.argmax(),:]))"
   ]
  },
  {
   "cell_type": "code",
   "execution_count": 14,
   "id": "41b02fd9",
   "metadata": {},
   "outputs": [
    {
     "name": "stdout",
     "output_type": "stream",
     "text": [
      "Return of portfolio with highest Sharpe ratio: 0.23679838894234503\n",
      "Volatility of portfolio with highest Sharpe ratio: 0.36354928719544427\n"
     ]
    }
   ],
   "source": [
    "#print expected return of max sharpe ratio\n",
    "max_sr_ret = ret_arr[sharpe_arr.argmax()]\n",
    "print('Return of portfolio with highest Sharpe ratio: {}'.format(max_sr_ret))\n",
    "# Print expected volatility of portfolio with highest Sharpe ratio\n",
    "max_sr_vol = vol_arr[sharpe_arr.argmax()]\n",
    "print('Volatility of portfolio with highest Sharpe ratio: {}'.format(max_sr_vol))"
   ]
  },
  {
   "cell_type": "code",
   "execution_count": 15,
   "id": "1f0b1615",
   "metadata": {},
   "outputs": [
    {
     "name": "stdout",
     "output_type": "stream",
     "text": [
      "Return of portfolio with : 0.13400478003690364\n",
      "Lowest volatility: 0.22448185881070523\n"
     ]
    }
   ],
   "source": [
    "#print expected return of minimum volatility\n",
    "min_vol_ret = ret_arr[vol_arr.argmin()]\n",
    "print('Return of portfolio with : {}'.format(min_vol_ret))\n",
    "# Print miminum volatility\n",
    "min_vol = vol_arr.min()\n",
    "print('Lowest volatility: {}'.format(min_vol))"
   ]
  },
  {
   "cell_type": "code",
   "execution_count": 16,
   "id": "6288e92f",
   "metadata": {},
   "outputs": [
    {
     "data": {
      "image/png": "[encoded data removed]",
      "text/plain": [
       "<Figure size 864x576 with 2 Axes>"
      ]
     },
     "metadata": {
      "needs_background": "light"
     },
     "output_type": "display_data"
    }
   ],
   "source": [
    "plt.figure(figsize=(12,8))\n",
    "plt.scatter(vol_arr, ret_arr, c=sharpe_arr, cmap='viridis')\n",
    "plt.colorbar(label='Sharpe Ratio')\n",
    "plt.xlabel('Volatility')\n",
    "plt.ylabel('Return')\n",
    "plt.scatter(max_sr_vol, max_sr_ret,c='red', s=50) # red dot\n",
    "plt.scatter(min_vol, min_vol_ret,c='black', s=50) # black dot\n",
    "plt.show()"
   ]
  },
  {
   "cell_type": "markdown",
   "id": "71cec15b",
   "metadata": {},
   "source": [
    "To solve the Sharpe Ratio maximization model, we make use of the minimize library function from scipy.optimize package of Python. However, since the original objective function insists on maximization as opposed to minimization demanded by the minimize solver, the principal of duality borrowed from **Optimization Theory** is employed to undertake the transformation. According to the principle:\n",
    "max(f(x)) = -min(-f(x))"
   ]
  },
  {
   "cell_type": "code",
   "execution_count": 17,
   "id": "c23f0bcd",
   "metadata": {},
   "outputs": [],
   "source": [
    "def get_ret_vol_sr(weights):\n",
    "    #return an array with: return, volatility and sharpe ratio from any given set of weights\n",
    "    weights = np.array(weights)\n",
    "    ret = np.sum(log_ret.mean() * weights) * 252 #if stock, multiple by 252 trading days\n",
    "    vol = np.sqrt(np.dot(weights.T, np.dot(log_ret.cov()*252, weights)))\n",
    "    sr = (ret-rf)/vol #add risk-free rate\n",
    "    return np.array([ret, vol, sr])\n",
    "\n",
    "def neg_sharpe(weights):\n",
    "    #return the negative Sharpe ratio from some weights, which we will use to minimize later\n",
    "# the number 2 is the sharpe ratio index from the get_ret_vol_sr\n",
    "    return get_ret_vol_sr(weights)[2] * -1\n",
    "\n",
    "def check_sum(weights):\n",
    "    #return 0 if sum of the weights is 1\n",
    "    return np.sum(weights)-1"
   ]
  },
  {
   "cell_type": "code",
   "execution_count": 20,
   "id": "25577106",
   "metadata": {},
   "outputs": [],
   "source": [
    "#begin with equal weight allocation, for 5 tokens each will have weight of 0.2\n",
    "cons = ({'type':'eq','fun': check_sum})\n",
    "\n",
    "#the bounds will be a tuple (0,1) for each stock, since the weight can range from 0 to 1.\n",
    "bounds = ((0,1),(0,1),(0,1),(0,1),(0,1))\n",
    "init_guess = np.repeat(1/len(df.columns),len(df.columns))"
   ]
  },
  {
   "cell_type": "code",
   "execution_count": 21,
   "id": "5e83a9e8",
   "metadata": {},
   "outputs": [
    {
     "name": "stdout",
     "output_type": "stream",
     "text": [
      "     fun: -0.5442783447863574\n",
      "     jac: array([-0.10768662, -0.06554434, -0.10885713, -0.09939548, -0.1039535 ])\n",
      " message: 'Optimization terminated successfully'\n",
      "    nfev: 67\n",
      "     nit: 11\n",
      "    njev: 11\n",
      "  status: 0\n",
      " success: True\n",
      "       x: array([2.90770180e-01, 0.00000000e+00, 7.09229820e-01, 4.65664833e-17,\n",
      "       6.90094683e-17])\n"
     ]
    }
   ],
   "source": [
    "from scipy.optimize import minimize \n",
    "# to minimize negative Sharpe ratio, we use SLSQP (Sequential Least Squares Programming) which is the most common method for generic minimization problems\n",
    "opt_returns = minimize(neg_sharpe, init_guess, method = 'SLSQP',bounds = bounds, constraints = cons)\n",
    "print(opt_returns)"
   ]
  },
  {
   "cell_type": "code",
   "execution_count": 19,
   "id": "29cf1b12",
   "metadata": {},
   "outputs": [
    {
     "data": {
      "text/plain": [
       "array([0.25439178, 0.32574673, 0.65815483])"
      ]
     },
     "execution_count": 19,
     "metadata": {},
     "output_type": "execute_result"
    }
   ],
   "source": [
    "get_ret_vol_sr(opt_returns.x) # to get  return, volatility, and sharpe ratio of optimized return"
   ]
  },
  {
   "cell_type": "markdown",
   "id": "4490ba07",
   "metadata": {},
   "source": [
    "Using scipy optimizer we get bigger sharpe ratio? previously sharpe ratio = 0.86. Now it is 0.89\n",
    "Also sharpe ratio <1 is considered less than good"
   ]
  },
  {
   "cell_type": "markdown",
   "id": "6b55b1b5",
   "metadata": {},
   "source": [
    "To finish the plotting of the frontier, we have define one last function that will help us minimize the volatility. It will return the volatility (index 1) of the given weights."
   ]
  },
  {
   "cell_type": "code",
   "execution_count": 22,
   "id": "330cdaec",
   "metadata": {},
   "outputs": [],
   "source": [
    "def minimize_volatility(weights):\n",
    "    return get_ret_vol_sr(weights)[1]"
   ]
  },
  {
   "cell_type": "code",
   "execution_count": 23,
   "id": "a03e16a3",
   "metadata": {},
   "outputs": [],
   "source": [
    "frontier_y = np.linspace(0.15,0.3,200) #Return evenly spaced numbers over a specified interval\n",
    "\n",
    "#The for loop is basically going through every possible value in our previously defined frontier_y and obtaining the minimum result (which is the key ‘fun’) of volatility (our x axis in the chart).\n",
    "frontier_x = []\n",
    "\n",
    "for possible_return in frontier_y:\n",
    "    cons = ({'type':'eq', 'fun':check_sum},\n",
    "            {'type':'eq', 'fun': lambda w: get_ret_vol_sr(w)[0] - possible_return})\n",
    "    \n",
    "    result = minimize(minimize_volatility,init_guess,method='SLSQP', bounds=bounds, constraints=cons)\n",
    "    frontier_x.append(result['fun'])"
   ]
  },
  {
   "cell_type": "code",
   "execution_count": 24,
   "id": "d8b510d7",
   "metadata": {},
   "outputs": [
    {
     "data": {
      "image/png": "[encoded data removed]",
      "text/plain": [
       "<Figure size 864x576 with 2 Axes>"
      ]
     },
     "metadata": {
      "needs_background": "light"
     },
     "output_type": "display_data"
    }
   ],
   "source": [
    "#plot the actual efficient frontier by passing the variables frontier_x and frontier_y\n",
    "plt.figure(figsize=(12,8))\n",
    "plt.scatter(vol_arr, ret_arr, c=sharpe_arr, cmap='viridis')\n",
    "plt.colorbar(label='Sharpe Ratio')\n",
    "plt.xlabel('Volatility')\n",
    "plt.ylabel('Return')\n",
    "plt.scatter(max_sr_vol, max_sr_ret,color='g', marker='*', s=200) # red dot\n",
    "plt.scatter(min_vol, min_vol_ret,c='black', s=50) # black dot\n",
    "plt.plot(frontier_x,frontier_y, 'b--', linewidth=1)\n",
    "#plt.savefig('cover.png')\n",
    "plt.show()"
   ]
  },
  {
   "cell_type": "markdown",
   "id": "1905c9de",
   "metadata": {},
   "source": [
    "**Using normal return**"
   ]
  },
  {
   "cell_type": "code",
   "execution_count": 25,
   "id": "22c71796",
   "metadata": {},
   "outputs": [
    {
     "data": {
      "text/html": [
       "<div>\n",
       "<style scoped>\n",
       "    .dataframe tbody tr th:only-of-type {\n",
       "        vertical-align: middle;\n",
       "    }\n",
       "\n",
       "    .dataframe tbody tr th {\n",
       "        vertical-align: top;\n",
       "    }\n",
       "\n",
       "    .dataframe thead th {\n",
       "        text-align: right;\n",
       "    }\n",
       "</style>\n",
       "<table border=\"1\" class=\"dataframe\">\n",
       "  <thead>\n",
       "    <tr style=\"text-align: right;\">\n",
       "      <th></th>\n",
       "      <th>AMD</th>\n",
       "      <th>IVV</th>\n",
       "      <th>SMH</th>\n",
       "      <th>SOXX</th>\n",
       "      <th>XSD</th>\n",
       "    </tr>\n",
       "    <tr>\n",
       "      <th>Date</th>\n",
       "      <th></th>\n",
       "      <th></th>\n",
       "      <th></th>\n",
       "      <th></th>\n",
       "      <th></th>\n",
       "    </tr>\n",
       "  </thead>\n",
       "  <tbody>\n",
       "    <tr>\n",
       "      <th>2017-01-03</th>\n",
       "      <td>11.43</td>\n",
       "      <td>203.194946</td>\n",
       "      <td>66.796890</td>\n",
       "      <td>114.745071</td>\n",
       "      <td>54.670773</td>\n",
       "    </tr>\n",
       "    <tr>\n",
       "      <th>2017-01-04</th>\n",
       "      <td>11.43</td>\n",
       "      <td>204.423523</td>\n",
       "      <td>67.010979</td>\n",
       "      <td>115.062981</td>\n",
       "      <td>55.019238</td>\n",
       "    </tr>\n",
       "    <tr>\n",
       "      <th>2017-01-05</th>\n",
       "      <td>11.24</td>\n",
       "      <td>204.235229</td>\n",
       "      <td>66.620033</td>\n",
       "      <td>114.081223</td>\n",
       "      <td>54.322292</td>\n",
       "    </tr>\n",
       "    <tr>\n",
       "      <th>2017-01-06</th>\n",
       "      <td>11.32</td>\n",
       "      <td>205.042297</td>\n",
       "      <td>66.964447</td>\n",
       "      <td>114.988182</td>\n",
       "      <td>54.544933</td>\n",
       "    </tr>\n",
       "    <tr>\n",
       "      <th>2017-01-09</th>\n",
       "      <td>11.49</td>\n",
       "      <td>204.378677</td>\n",
       "      <td>67.737038</td>\n",
       "      <td>116.203697</td>\n",
       "      <td>55.145065</td>\n",
       "    </tr>\n",
       "  </tbody>\n",
       "</table>\n",
       "</div>"
      ],
      "text/plain": [
       "              AMD         IVV        SMH        SOXX        XSD\n",
       "Date                                                           \n",
       "2017-01-03  11.43  203.194946  66.796890  114.745071  54.670773\n",
       "2017-01-04  11.43  204.423523  67.010979  115.062981  55.019238\n",
       "2017-01-05  11.24  204.235229  66.620033  114.081223  54.322292\n",
       "2017-01-06  11.32  205.042297  66.964447  114.988182  54.544933\n",
       "2017-01-09  11.49  204.378677  67.737038  116.203697  55.145065"
      ]
     },
     "execution_count": 25,
     "metadata": {},
     "output_type": "execute_result"
    }
   ],
   "source": [
    "df.head()"
   ]
  },
  {
   "cell_type": "code",
   "execution_count": 26,
   "id": "0a80b0cb",
   "metadata": {},
   "outputs": [
    {
     "data": {
      "text/html": [
       "<div>\n",
       "<style scoped>\n",
       "    .dataframe tbody tr th:only-of-type {\n",
       "        vertical-align: middle;\n",
       "    }\n",
       "\n",
       "    .dataframe tbody tr th {\n",
       "        vertical-align: top;\n",
       "    }\n",
       "\n",
       "    .dataframe thead th {\n",
       "        text-align: right;\n",
       "    }\n",
       "</style>\n",
       "<table border=\"1\" class=\"dataframe\">\n",
       "  <thead>\n",
       "    <tr style=\"text-align: right;\">\n",
       "      <th></th>\n",
       "      <th>AMD</th>\n",
       "      <th>IVV</th>\n",
       "      <th>SMH</th>\n",
       "      <th>SOXX</th>\n",
       "      <th>XSD</th>\n",
       "    </tr>\n",
       "    <tr>\n",
       "      <th>Date</th>\n",
       "      <th></th>\n",
       "      <th></th>\n",
       "      <th></th>\n",
       "      <th></th>\n",
       "      <th></th>\n",
       "    </tr>\n",
       "  </thead>\n",
       "  <tbody>\n",
       "    <tr>\n",
       "      <th>2017-01-03</th>\n",
       "      <td>NaN</td>\n",
       "      <td>NaN</td>\n",
       "      <td>NaN</td>\n",
       "      <td>NaN</td>\n",
       "      <td>NaN</td>\n",
       "    </tr>\n",
       "    <tr>\n",
       "      <th>2017-01-04</th>\n",
       "      <td>0.000000</td>\n",
       "      <td>0.006046</td>\n",
       "      <td>0.003205</td>\n",
       "      <td>0.002771</td>\n",
       "      <td>0.006374</td>\n",
       "    </tr>\n",
       "    <tr>\n",
       "      <th>2017-01-05</th>\n",
       "      <td>-0.016623</td>\n",
       "      <td>-0.000921</td>\n",
       "      <td>-0.005834</td>\n",
       "      <td>-0.008532</td>\n",
       "      <td>-0.012667</td>\n",
       "    </tr>\n",
       "    <tr>\n",
       "      <th>2017-01-06</th>\n",
       "      <td>0.007117</td>\n",
       "      <td>0.003952</td>\n",
       "      <td>0.005170</td>\n",
       "      <td>0.007950</td>\n",
       "      <td>0.004099</td>\n",
       "    </tr>\n",
       "    <tr>\n",
       "      <th>2017-01-09</th>\n",
       "      <td>0.015018</td>\n",
       "      <td>-0.003237</td>\n",
       "      <td>0.011537</td>\n",
       "      <td>0.010571</td>\n",
       "      <td>0.011003</td>\n",
       "    </tr>\n",
       "  </tbody>\n",
       "</table>\n",
       "</div>"
      ],
      "text/plain": [
       "                 AMD       IVV       SMH      SOXX       XSD\n",
       "Date                                                        \n",
       "2017-01-03       NaN       NaN       NaN       NaN       NaN\n",
       "2017-01-04  0.000000  0.006046  0.003205  0.002771  0.006374\n",
       "2017-01-05 -0.016623 -0.000921 -0.005834 -0.008532 -0.012667\n",
       "2017-01-06  0.007117  0.003952  0.005170  0.007950  0.004099\n",
       "2017-01-09  0.015018 -0.003237  0.011537  0.010571  0.011003"
      ]
     },
     "execution_count": 26,
     "metadata": {},
     "output_type": "execute_result"
    }
   ],
   "source": [
    "nor_ret=df.pct_change()\n",
    "nor_ret.head()"
   ]
  },
  {
   "cell_type": "code",
   "execution_count": 27,
   "id": "78a23904",
   "metadata": {},
   "outputs": [
    {
     "data": {
      "image/png": "[encoded data removed]",
      "text/plain": [
       "<Figure size 432x288 with 1 Axes>"
      ]
     },
     "metadata": {
      "needs_background": "light"
     },
     "output_type": "display_data"
    }
   ],
   "source": [
    "nor_ret.plot()\n",
    "plt.show()"
   ]
  },
  {
   "cell_type": "code",
   "execution_count": 28,
   "id": "bed137d3",
   "metadata": {},
   "outputs": [],
   "source": [
    "np.random.seed(123)\n",
    "num_ports = 5000\n",
    "nor_all_weights = np.zeros((num_ports, len(df.columns)))\n",
    "nor_ret_arr = np.zeros(num_ports)\n",
    "nor_vol_arr = np.zeros(num_ports)\n",
    "nor_sharpe_arr = np.zeros(num_ports)\n",
    "rf = 0.04 #risk-free rate of treasury bond\n",
    "for x in range(num_ports):\n",
    "    # Weights\n",
    "    weights = np.array(np.random.random(len(df.columns))) #number of random weight equal number of tickers\n",
    "    weights = weights/np.sum(weights)\n",
    "    \n",
    "    # Save weights\n",
    "    nor_all_weights[x,:] = weights\n",
    "    \n",
    "    # Expected return\n",
    "    nor_ret_arr[x] = np.sum((nor_ret.mean() * weights * 252)) #crypto trading is 365 days/year, stock trading 252 days/year\n",
    "    \n",
    "    # Expected volatility\n",
    "    nor_vol_arr[x] = np.sqrt(np.dot(weights.T, np.dot(nor_ret.cov()*252, weights)))\n",
    "    \n",
    "    # Sharpe Ratio\n",
    "    nor_sharpe_arr[x] = (nor_ret_arr[x]-rf)/nor_vol_arr[x]"
   ]
  },
  {
   "cell_type": "code",
   "execution_count": 29,
   "id": "c3347e30",
   "metadata": {},
   "outputs": [
    {
     "name": "stdout",
     "output_type": "stream",
     "text": [
      "Max Sharpe ratio in the array: 0.7947344097841978\n",
      "Index of max Sharpe ratio in the array: 2179\n"
     ]
    }
   ],
   "source": [
    "print('Max Sharpe ratio in the array: {}'.format(nor_sharpe_arr.max()))\n",
    "\n",
    "#numpy.argmax Returns the indices of the maximum values along an axis.\n",
    "\n",
    "print('Index of max Sharpe ratio in the array: {}'.format(nor_sharpe_arr.argmax())) "
   ]
  },
  {
   "cell_type": "code",
   "execution_count": 30,
   "id": "d2da93c9",
   "metadata": {},
   "outputs": [
    {
     "name": "stdout",
     "output_type": "stream",
     "text": [
      "Return of portfolio with : 0.3886871098622452\n",
      "Lowest volatility: 0.4387467128256441\n"
     ]
    }
   ],
   "source": [
    "#print expected return of max sharpe ratio\n",
    "nor_max_sr_ret = nor_ret_arr[nor_sharpe_arr.argmax()]\n",
    "print('Return of portfolio with : {}'.format(nor_max_sr_ret))\n",
    "# Print volatility of max sharpe ratio\n",
    "nor_max_sr_vol = nor_vol_arr[nor_sharpe_arr.argmax()]\n",
    "print('Lowest volatility: {}'.format(nor_max_sr_vol))"
   ]
  },
  {
   "cell_type": "code",
   "execution_count": 31,
   "id": "6af95b00",
   "metadata": {},
   "outputs": [
    {
     "name": "stdout",
     "output_type": "stream",
     "text": [
      "Return of portfolio with : 0.16316051359697933\n",
      "Lowest volatility: 0.22361766858200138\n"
     ]
    }
   ],
   "source": [
    "#print expected return of minimum volatility\n",
    "nor_min_vol_ret = nor_ret_arr[nor_vol_arr.argmin()]\n",
    "print('Return of portfolio with : {}'.format(nor_min_vol_ret))\n",
    "# Print miminum volatility\n",
    "nor_min_vol = nor_vol_arr.min()\n",
    "print('Lowest volatility: {}'.format(nor_min_vol))"
   ]
  },
  {
   "cell_type": "code",
   "execution_count": 32,
   "id": "08b796d5",
   "metadata": {},
   "outputs": [
    {
     "data": {
      "image/png": "[encoded data removed]",
      "text/plain": [
       "<Figure size 864x576 with 2 Axes>"
      ]
     },
     "metadata": {
      "needs_background": "light"
     },
     "output_type": "display_data"
    }
   ],
   "source": [
    "plt.figure(figsize=(12,8))\n",
    "plt.scatter(nor_vol_arr, nor_ret_arr, c=nor_sharpe_arr, cmap='viridis')\n",
    "plt.colorbar(label='Sharpe Ratio with Normal Return')\n",
    "plt.xlabel('Volatility')\n",
    "plt.ylabel('Return')\n",
    "plt.scatter(nor_max_sr_vol, nor_max_sr_ret,c='red', s=50) # red dot\n",
    "plt.scatter(nor_min_vol, nor_min_vol_ret,c='black', s=50) # black dot\n",
    "plt.show()"
   ]
  },
  {
   "cell_type": "markdown",
   "id": "8ecb3426",
   "metadata": {},
   "source": [
    "#### table that summary weights of portfolio with highest sharpe ratio"
   ]
  },
  {
   "cell_type": "code",
   "execution_count": 33,
   "id": "b519337a",
   "metadata": {},
   "outputs": [],
   "source": [
    "port_weights = pd.DataFrame(zip(df.columns,all_weights[sharpe_arr.argmax()],opt_returns.x, nor_all_weights[nor_sharpe_arr.argmax()]), columns = ['fund','log_ret','log_ret_opt','nor_ret'])"
   ]
  },
  {
   "cell_type": "code",
   "execution_count": 34,
   "id": "1d665e6e",
   "metadata": {},
   "outputs": [
    {
     "data": {
      "text/html": [
       "<div>\n",
       "<style scoped>\n",
       "    .dataframe tbody tr th:only-of-type {\n",
       "        vertical-align: middle;\n",
       "    }\n",
       "\n",
       "    .dataframe tbody tr th {\n",
       "        vertical-align: top;\n",
       "    }\n",
       "\n",
       "    .dataframe thead th {\n",
       "        text-align: right;\n",
       "    }\n",
       "</style>\n",
       "<table border=\"1\" class=\"dataframe\">\n",
       "  <thead>\n",
       "    <tr style=\"text-align: right;\">\n",
       "      <th></th>\n",
       "      <th>fund</th>\n",
       "      <th>log_ret</th>\n",
       "      <th>log_ret_opt</th>\n",
       "      <th>nor_ret</th>\n",
       "    </tr>\n",
       "  </thead>\n",
       "  <tbody>\n",
       "    <tr>\n",
       "      <th>0</th>\n",
       "      <td>AMD</td>\n",
       "      <td>0.269265</td>\n",
       "      <td>0.2907702</td>\n",
       "      <td>0.579253</td>\n",
       "    </tr>\n",
       "    <tr>\n",
       "      <th>1</th>\n",
       "      <td>IVV</td>\n",
       "      <td>0.013338</td>\n",
       "      <td>0.0000000</td>\n",
       "      <td>0.005078</td>\n",
       "    </tr>\n",
       "    <tr>\n",
       "      <th>2</th>\n",
       "      <td>SMH</td>\n",
       "      <td>0.477082</td>\n",
       "      <td>0.7092298</td>\n",
       "      <td>0.224897</td>\n",
       "    </tr>\n",
       "    <tr>\n",
       "      <th>3</th>\n",
       "      <td>SOXX</td>\n",
       "      <td>0.195301</td>\n",
       "      <td>0.0000000</td>\n",
       "      <td>0.098718</td>\n",
       "    </tr>\n",
       "    <tr>\n",
       "      <th>4</th>\n",
       "      <td>XSD</td>\n",
       "      <td>0.045014</td>\n",
       "      <td>0.0000000</td>\n",
       "      <td>0.092055</td>\n",
       "    </tr>\n",
       "  </tbody>\n",
       "</table>\n",
       "</div>"
      ],
      "text/plain": [
       "   fund   log_ret log_ret_opt   nor_ret\n",
       "0   AMD  0.269265   0.2907702  0.579253\n",
       "1   IVV  0.013338   0.0000000  0.005078\n",
       "2   SMH  0.477082   0.7092298  0.224897\n",
       "3  SOXX  0.195301   0.0000000  0.098718\n",
       "4   XSD  0.045014   0.0000000  0.092055"
      ]
     },
     "execution_count": 34,
     "metadata": {},
     "output_type": "execute_result"
    }
   ],
   "source": [
    "port_weights['log_ret_opt'] = port_weights['log_ret_opt'].apply(lambda x: '%.7f' % x)\n",
    "port_weights"
   ]
  },
  {
   "cell_type": "code",
   "execution_count": null,
   "id": "187b946b",
   "metadata": {},
   "outputs": [],
   "source": [
    "float('3.182039e-01')"
   ]
  },
  {
   "cell_type": "code",
   "execution_count": null,
   "id": "c0deeb84",
   "metadata": {},
   "outputs": [],
   "source": []
  }
 ],
 "metadata": {
  "kernelspec": {
   "display_name": "Python 3 (ipykernel)",
   "language": "python",
   "name": "python3"
  },
  "language_info": {
   "codemirror_mode": {
    "name": "ipython",
    "version": 3
   },
   "file_extension": ".py",
   "mimetype": "text/x-python",
   "name": "python",
   "nbconvert_exporter": "python",
   "pygments_lexer": "ipython3",
   "version": "3.9.7"
  }
 },
 "nbformat": 4,
 "nbformat_minor": 5
}
